{
 "cells": [
  {
   "cell_type": "markdown",
   "metadata": {
    "id": "l5gsShBL5nOT"
   },
   "source": [
    "# Bosscha/Zeiss Double Star (BZDS) object query with _Gaia_ eDR3 and finding chart plotter\n",
    "\n",
    "by : Irfan Imaduddin<br>\n",
    "date    : 10 June 2021<br>\n",
    "version : 1.0<br>\n",
    "contact : irfanimaduddin[at]gmail.com<br><br>\n",
    "\n",
    "---"
   ]
  },
  {
   "cell_type": "markdown",
   "metadata": {
    "id": "GSiExf5v5rR0"
   },
   "source": [
    "### Install necessary modules"
   ]
  },
  {
   "cell_type": "code",
   "execution_count": 1,
   "metadata": {
    "colab": {
     "base_uri": "https://localhost:8080/"
    },
    "id": "s9tYW-fe5oKw",
    "outputId": "0dd4a506-ca3f-4721-89ad-50f08494b142"
   },
   "outputs": [
    {
     "name": "stdout",
     "output_type": "stream",
     "text": [
      "Requirement already satisfied: astroquery in /usr/local/lib/python3.7/dist-packages (0.4.3)\n",
      "Requirement already satisfied: beautifulsoup4>=4.3.2 in /usr/local/lib/python3.7/dist-packages (from astroquery) (4.6.3)\n",
      "Requirement already satisfied: six in /usr/local/lib/python3.7/dist-packages (from astroquery) (1.15.0)\n",
      "Requirement already satisfied: pyvo>=1.1 in /usr/local/lib/python3.7/dist-packages (from astroquery) (1.1)\n",
      "Requirement already satisfied: keyring>=4.0 in /usr/local/lib/python3.7/dist-packages (from astroquery) (23.0.1)\n",
      "Requirement already satisfied: numpy>=1.15.0 in /usr/local/lib/python3.7/dist-packages (from astroquery) (1.19.5)\n",
      "Requirement already satisfied: html5lib>=0.999 in /usr/local/lib/python3.7/dist-packages (from astroquery) (1.0.1)\n",
      "Requirement already satisfied: astropy>=3.1.2 in /usr/local/lib/python3.7/dist-packages (from astroquery) (4.2.1)\n",
      "Requirement already satisfied: requests>=2.4.3 in /usr/local/lib/python3.7/dist-packages (from astroquery) (2.23.0)\n",
      "Requirement already satisfied: mimeparse in /usr/local/lib/python3.7/dist-packages (from pyvo>=1.1->astroquery) (0.1.3)\n",
      "Requirement already satisfied: jeepney>=0.4.2; sys_platform == \"linux\" in /usr/local/lib/python3.7/dist-packages (from keyring>=4.0->astroquery) (0.6.0)\n",
      "Requirement already satisfied: SecretStorage>=3.2; sys_platform == \"linux\" in /usr/local/lib/python3.7/dist-packages (from keyring>=4.0->astroquery) (3.3.1)\n",
      "Requirement already satisfied: importlib-metadata>=3.6 in /usr/local/lib/python3.7/dist-packages (from keyring>=4.0->astroquery) (4.5.0)\n",
      "Requirement already satisfied: webencodings in /usr/local/lib/python3.7/dist-packages (from html5lib>=0.999->astroquery) (0.5.1)\n",
      "Requirement already satisfied: pyerfa in /usr/local/lib/python3.7/dist-packages (from astropy>=3.1.2->astroquery) (2.0.0)\n",
      "Requirement already satisfied: certifi>=2017.4.17 in /usr/local/lib/python3.7/dist-packages (from requests>=2.4.3->astroquery) (2021.5.30)\n",
      "Requirement already satisfied: chardet<4,>=3.0.2 in /usr/local/lib/python3.7/dist-packages (from requests>=2.4.3->astroquery) (3.0.4)\n",
      "Requirement already satisfied: urllib3!=1.25.0,!=1.25.1,<1.26,>=1.21.1 in /usr/local/lib/python3.7/dist-packages (from requests>=2.4.3->astroquery) (1.24.3)\n",
      "Requirement already satisfied: idna<3,>=2.5 in /usr/local/lib/python3.7/dist-packages (from requests>=2.4.3->astroquery) (2.10)\n",
      "Requirement already satisfied: cryptography>=2.0 in /usr/local/lib/python3.7/dist-packages (from SecretStorage>=3.2; sys_platform == \"linux\"->keyring>=4.0->astroquery) (3.4.7)\n",
      "Requirement already satisfied: zipp>=0.5 in /usr/local/lib/python3.7/dist-packages (from importlib-metadata>=3.6->keyring>=4.0->astroquery) (3.4.1)\n",
      "Requirement already satisfied: typing-extensions>=3.6.4; python_version < \"3.8\" in /usr/local/lib/python3.7/dist-packages (from importlib-metadata>=3.6->keyring>=4.0->astroquery) (3.7.4.3)\n",
      "Requirement already satisfied: cffi>=1.12 in /usr/local/lib/python3.7/dist-packages (from cryptography>=2.0->SecretStorage>=3.2; sys_platform == \"linux\"->keyring>=4.0->astroquery) (1.14.5)\n",
      "Requirement already satisfied: pycparser in /usr/local/lib/python3.7/dist-packages (from cffi>=1.12->cryptography>=2.0->SecretStorage>=3.2; sys_platform == \"linux\"->keyring>=4.0->astroquery) (2.20)\n",
      "Requirement already satisfied: astropy in /usr/local/lib/python3.7/dist-packages (4.2.1)\n",
      "Requirement already satisfied: pyerfa in /usr/local/lib/python3.7/dist-packages (from astropy) (2.0.0)\n",
      "Requirement already satisfied: numpy>=1.17 in /usr/local/lib/python3.7/dist-packages (from astropy) (1.19.5)\n"
     ]
    }
   ],
   "source": [
    "# If we're running on Colab, install libraries\n",
    "\n",
    "import sys\n",
    "IN_COLAB = 'google.colab' in sys.modules\n",
    "\n",
    "if IN_COLAB:\n",
    "    !pip install astroquery\n",
    "    !pip install astropy"
   ]
  },
  {
   "cell_type": "markdown",
   "metadata": {
    "id": "k9IyIJ6x63bV"
   },
   "source": [
    "### Import the modules"
   ]
  },
  {
   "cell_type": "code",
   "execution_count": 2,
   "metadata": {
    "id": "6nHg5VDM6Vai"
   },
   "outputs": [],
   "source": [
    "%matplotlib inline               \n",
    "\n",
    "from astroquery.gaia import Gaia\n",
    "from astroquery.simbad import Simbad\n",
    "from astroquery.vizier import Vizier\n",
    "\n",
    "import astropy.coordinates as coord\n",
    "import astropy.units as u\n",
    "import matplotlib.pyplot as plt\n",
    "\n",
    "import numpy as np\n",
    "import matplotlib.pyplot as plt\n",
    "import pandas as pd"
   ]
  },
  {
   "cell_type": "markdown",
   "metadata": {
    "id": "tdmi-kcm7AF5"
   },
   "source": [
    "### Set Timeout\n"
   ]
  },
  {
   "cell_type": "code",
   "execution_count": 3,
   "metadata": {
    "id": "gPRt1u2e7T4w"
   },
   "outputs": [],
   "source": [
    "Vizier.TIMEOUT = 1800 # in seconds"
   ]
  },
  {
   "cell_type": "markdown",
   "metadata": {
    "id": "_z9pF2xuhTI6"
   },
   "source": [
    "### Select the Gaia EDR3 Catalog for Query and Filter the GMag <= 12"
   ]
  },
  {
   "cell_type": "code",
   "execution_count": 4,
   "metadata": {
    "id": "4xbv3_3CB1oc"
   },
   "outputs": [],
   "source": [
    "wds_query=Vizier(columns=[\"Source\",\"RAJ2000\",\"DEJ2000\",\"Gmag\"], \n",
    "                 catalog=[\"I/350/gaiaedr3\"],\n",
    "                 column_filters={\"Gmag\":\"<=12\"})"
   ]
  },
  {
   "cell_type": "markdown",
   "metadata": {
    "id": "46DOb-sn7WV3"
   },
   "source": [
    "### Individual Object Query "
   ]
  },
  {
   "cell_type": "code",
   "execution_count": 5,
   "metadata": {
    "id": "Nhx6VSg87VK5"
   },
   "outputs": [],
   "source": [
    "objek = 'WDS 12005-1517' # Insert the object name"
   ]
  },
  {
   "cell_type": "code",
   "execution_count": 6,
   "metadata": {
    "id": "QH7piGcB7aYG"
   },
   "outputs": [],
   "source": [
    "obj_query = wds_query.query_object(objek)"
   ]
  },
  {
   "cell_type": "markdown",
   "metadata": {
    "id": "iW__InfKMldH"
   },
   "source": [
    "### Assign Query to DataFrame"
   ]
  },
  {
   "cell_type": "code",
   "execution_count": 7,
   "metadata": {
    "id": "d_CjASBZ-YR2"
   },
   "outputs": [],
   "source": [
    "obj_querydf = obj_query[0].to_pandas()"
   ]
  },
  {
   "cell_type": "markdown",
   "metadata": {
    "id": "VgsD-KnfMrJW"
   },
   "source": [
    "### Find the Primary Object"
   ]
  },
  {
   "cell_type": "code",
   "execution_count": 8,
   "metadata": {
    "id": "_pCZNO-lGyQU"
   },
   "outputs": [],
   "source": [
    "cen_obj = obj_querydf[obj_querydf.Gmag == obj_querydf.Gmag.min()].reset_index(drop=True)\n",
    "cen_obj_ra = cen_obj.RAJ2000\n",
    "cen_obj_de = cen_obj.DEJ2000"
   ]
  },
  {
   "cell_type": "code",
   "execution_count": 9,
   "metadata": {
    "colab": {
     "base_uri": "https://localhost:8080/",
     "height": 81
    },
    "id": "GR-cDL-QHH2r",
    "outputId": "0e64cf1d-37c0-4bdd-aa0e-600f683e25af"
   },
   "outputs": [
    {
     "data": {
      "text/html": [
       "<div>\n",
       "<style scoped>\n",
       "    .dataframe tbody tr th:only-of-type {\n",
       "        vertical-align: middle;\n",
       "    }\n",
       "\n",
       "    .dataframe tbody tr th {\n",
       "        vertical-align: top;\n",
       "    }\n",
       "\n",
       "    .dataframe thead th {\n",
       "        text-align: right;\n",
       "    }\n",
       "</style>\n",
       "<table border=\"1\" class=\"dataframe\">\n",
       "  <thead>\n",
       "    <tr style=\"text-align: right;\">\n",
       "      <th></th>\n",
       "      <th>Source</th>\n",
       "      <th>RAJ2000</th>\n",
       "      <th>DEJ2000</th>\n",
       "      <th>Gmag</th>\n",
       "    </tr>\n",
       "  </thead>\n",
       "  <tbody>\n",
       "    <tr>\n",
       "      <th>0</th>\n",
       "      <td>3568990799320212224</td>\n",
       "      <td>180.116867</td>\n",
       "      <td>-15.279552</td>\n",
       "      <td>9.654034</td>\n",
       "    </tr>\n",
       "  </tbody>\n",
       "</table>\n",
       "</div>"
      ],
      "text/plain": [
       "                Source     RAJ2000    DEJ2000      Gmag\n",
       "0  3568990799320212224  180.116867 -15.279552  9.654034"
      ]
     },
     "execution_count": 9,
     "metadata": {
      "tags": []
     },
     "output_type": "execute_result"
    }
   ],
   "source": [
    "cen_obj"
   ]
  },
  {
   "cell_type": "markdown",
   "metadata": {
    "id": "1FUpcHYL1Ndb"
   },
   "source": [
    "### Set Gaia Job"
   ]
  },
  {
   "cell_type": "code",
   "execution_count": 10,
   "metadata": {
    "id": "KnBVI_oouO5L"
   },
   "outputs": [],
   "source": [
    "columns = 'source_id, ra, dec, phot_g_mean_mag'"
   ]
  },
  {
   "cell_type": "code",
   "execution_count": 11,
   "metadata": {
    "id": "8qZoVkYpuaak"
   },
   "outputs": [],
   "source": [
    "query_base = \"\"\"SELECT \n",
    "{columns}\n",
    "FROM gaiaedr3.gaia_source\n",
    "WHERE \n",
    "CONTAINS(\n",
    "\tPOINT('ICRS',gaiaedr3.gaia_source.ra,gaiaedr3.gaia_source.dec),\n",
    "\tBOX('ICRS',{cen_obj_ra},{cen_obj_de},1,1)\n",
    ")=1  AND  (gaiaedr3.gaia_source.phot_g_mean_mag<=12)\n",
    "\"\"\""
   ]
  },
  {
   "cell_type": "markdown",
   "metadata": {
    "id": "te3cTWB1jrCE"
   },
   "source": [
    "### Region Query with the Primary as the Central"
   ]
  },
  {
   "cell_type": "code",
   "execution_count": 12,
   "metadata": {
    "id": "67fUZ640wc3d"
   },
   "outputs": [],
   "source": [
    "gaia_query = query_base.format(columns=columns, cen_obj_ra=str(float(cen_obj_ra)), cen_obj_de=str(float(cen_obj_de)))"
   ]
  },
  {
   "cell_type": "code",
   "execution_count": 13,
   "metadata": {
    "id": "dpklTfkxwpxa"
   },
   "outputs": [],
   "source": [
    "job = Gaia.launch_job(gaia_query)"
   ]
  },
  {
   "cell_type": "code",
   "execution_count": 14,
   "metadata": {
    "id": "IKDJRWXRwxES"
   },
   "outputs": [],
   "source": [
    "result = job.get_results()"
   ]
  },
  {
   "cell_type": "code",
   "execution_count": 15,
   "metadata": {
    "id": "fZJg-fpuxfiM"
   },
   "outputs": [],
   "source": [
    "reg_querydf = result.to_pandas()"
   ]
  },
  {
   "cell_type": "code",
   "execution_count": 16,
   "metadata": {
    "colab": {
     "base_uri": "https://localhost:8080/",
     "height": 206
    },
    "id": "qo1GOvKSkF8p",
    "outputId": "f89bec10-2ad2-4bd6-ac3e-8b2616b0dd8b"
   },
   "outputs": [
    {
     "data": {
      "text/html": [
       "<div>\n",
       "<style scoped>\n",
       "    .dataframe tbody tr th:only-of-type {\n",
       "        vertical-align: middle;\n",
       "    }\n",
       "\n",
       "    .dataframe tbody tr th {\n",
       "        vertical-align: top;\n",
       "    }\n",
       "\n",
       "    .dataframe thead th {\n",
       "        text-align: right;\n",
       "    }\n",
       "</style>\n",
       "<table border=\"1\" class=\"dataframe\">\n",
       "  <thead>\n",
       "    <tr style=\"text-align: right;\">\n",
       "      <th></th>\n",
       "      <th>source_id</th>\n",
       "      <th>ra</th>\n",
       "      <th>dec</th>\n",
       "      <th>phot_g_mean_mag</th>\n",
       "    </tr>\n",
       "  </thead>\n",
       "  <tbody>\n",
       "    <tr>\n",
       "      <th>0</th>\n",
       "      <td>3568679328291423616</td>\n",
       "      <td>180.027462</td>\n",
       "      <td>-15.772211</td>\n",
       "      <td>11.562316</td>\n",
       "    </tr>\n",
       "    <tr>\n",
       "      <th>1</th>\n",
       "      <td>3568759523920356992</td>\n",
       "      <td>180.354555</td>\n",
       "      <td>-15.736758</td>\n",
       "      <td>11.149019</td>\n",
       "    </tr>\n",
       "    <tr>\n",
       "      <th>2</th>\n",
       "      <td>3568763303491611008</td>\n",
       "      <td>180.537537</td>\n",
       "      <td>-15.708255</td>\n",
       "      <td>9.816649</td>\n",
       "    </tr>\n",
       "    <tr>\n",
       "      <th>3</th>\n",
       "      <td>3568782338786638208</td>\n",
       "      <td>180.325235</td>\n",
       "      <td>-15.573685</td>\n",
       "      <td>11.933821</td>\n",
       "    </tr>\n",
       "    <tr>\n",
       "      <th>4</th>\n",
       "      <td>3568783953694343424</td>\n",
       "      <td>180.354235</td>\n",
       "      <td>-15.527681</td>\n",
       "      <td>9.255332</td>\n",
       "    </tr>\n",
       "  </tbody>\n",
       "</table>\n",
       "</div>"
      ],
      "text/plain": [
       "             source_id          ra        dec  phot_g_mean_mag\n",
       "0  3568679328291423616  180.027462 -15.772211        11.562316\n",
       "1  3568759523920356992  180.354555 -15.736758        11.149019\n",
       "2  3568763303491611008  180.537537 -15.708255         9.816649\n",
       "3  3568782338786638208  180.325235 -15.573685        11.933821\n",
       "4  3568783953694343424  180.354235 -15.527681         9.255332"
      ]
     },
     "execution_count": 16,
     "metadata": {
      "tags": []
     },
     "output_type": "execute_result"
    }
   ],
   "source": [
    "reg_querydf.head()"
   ]
  },
  {
   "cell_type": "code",
   "execution_count": 17,
   "metadata": {
    "colab": {
     "base_uri": "https://localhost:8080/",
     "height": 81
    },
    "id": "tK8b5aazkOxB",
    "outputId": "ff66643e-5ac7-4dc9-865f-ccced8c34422"
   },
   "outputs": [
    {
     "data": {
      "text/html": [
       "<div>\n",
       "<style scoped>\n",
       "    .dataframe tbody tr th:only-of-type {\n",
       "        vertical-align: middle;\n",
       "    }\n",
       "\n",
       "    .dataframe tbody tr th {\n",
       "        vertical-align: top;\n",
       "    }\n",
       "\n",
       "    .dataframe thead th {\n",
       "        text-align: right;\n",
       "    }\n",
       "</style>\n",
       "<table border=\"1\" class=\"dataframe\">\n",
       "  <thead>\n",
       "    <tr style=\"text-align: right;\">\n",
       "      <th></th>\n",
       "      <th>source_id</th>\n",
       "      <th>ra</th>\n",
       "      <th>dec</th>\n",
       "      <th>phot_g_mean_mag</th>\n",
       "    </tr>\n",
       "  </thead>\n",
       "  <tbody>\n",
       "    <tr>\n",
       "      <th>16</th>\n",
       "      <td>3568990799320212224</td>\n",
       "      <td>180.11675</td>\n",
       "      <td>-15.279447</td>\n",
       "      <td>9.654034</td>\n",
       "    </tr>\n",
       "  </tbody>\n",
       "</table>\n",
       "</div>"
      ],
      "text/plain": [
       "              source_id         ra        dec  phot_g_mean_mag\n",
       "16  3568990799320212224  180.11675 -15.279447         9.654034"
      ]
     },
     "execution_count": 17,
     "metadata": {
      "tags": []
     },
     "output_type": "execute_result"
    }
   ],
   "source": [
    "reg_querydf[reg_querydf.source_id == cen_obj.Source[0]]"
   ]
  },
  {
   "cell_type": "markdown",
   "metadata": {
    "id": "9E2WyqPAOssy"
   },
   "source": [
    "### Modify the RA"
   ]
  },
  {
   "cell_type": "code",
   "execution_count": 18,
   "metadata": {
    "id": "KdpB0lLUOxkp"
   },
   "outputs": [],
   "source": [
    "if (reg_querydf.ra.max()-reg_querydf.ra.min()) > 180.:    \n",
    "    mod_ra = []\n",
    "    for i in range(len(reg_querydf.ra)):\n",
    "        if reg_querydf.ra[i] > 180.:\n",
    "            mod_ra.append(reg_querydf.ra[i] - 360.)\n",
    "        else:\n",
    "            mod_ra.append(reg_querydf.ra[i])\n",
    "            \n",
    "    reg_querydf['mod_ra'] = mod_ra\n",
    "\n",
    "    if cen_obj.RAJ2000[0] > 180.:\n",
    "        cen_obj['mod_ra'] = cen_obj.RAJ2000[0] - 360.    \n",
    "    else:\n",
    "        cen_obj['mod_ra'] = cen_obj.RAJ2000[0]\n",
    "\n",
    "else:\n",
    "    reg_querydf['mod_ra'] = reg_querydf.ra\n",
    "    cen_obj['mod_ra']     = cen_obj.RAJ2000[0]"
   ]
  },
  {
   "cell_type": "markdown",
   "metadata": {
    "id": "6JgN-KQVU4T8"
   },
   "source": [
    "### Find the Width and Height of the Image"
   ]
  },
  {
   "cell_type": "code",
   "execution_count": 19,
   "metadata": {
    "id": "SXph8VGUQoer"
   },
   "outputs": [],
   "source": [
    "deltacoord = np.sqrt(60*60/2)/60./2. # in degrees\n",
    "\n",
    "xmin, xmax = float(cen_obj.mod_ra) - deltacoord, float(cen_obj.mod_ra) + deltacoord\n",
    "ymin, ymax = float(cen_obj.DEJ2000) - deltacoord, float(cen_obj.DEJ2000) + deltacoord"
   ]
  },
  {
   "cell_type": "markdown",
   "metadata": {
    "id": "NQxvkCz5NB__"
   },
   "source": [
    "### Group Objects by its GMags"
   ]
  },
  {
   "cell_type": "code",
   "execution_count": 20,
   "metadata": {
    "id": "cgpq38BONIdV"
   },
   "outputs": [],
   "source": [
    "table_6 = reg_querydf[(reg_querydf.phot_g_mean_mag <= 6.)]\n",
    "table_7 = reg_querydf[(reg_querydf.phot_g_mean_mag > 6.) & (reg_querydf.phot_g_mean_mag <= 7.)]\n",
    "table_8 = reg_querydf[(reg_querydf.phot_g_mean_mag > 7.) & (reg_querydf.phot_g_mean_mag <= 8.)]\n",
    "table_9 = reg_querydf[(reg_querydf.phot_g_mean_mag > 8.) & (reg_querydf.phot_g_mean_mag <= 9.)]\n",
    "table_10 = reg_querydf[(reg_querydf.phot_g_mean_mag > 9.) & (reg_querydf.phot_g_mean_mag <= 10.)]\n",
    "table_11 = reg_querydf[(reg_querydf.phot_g_mean_mag > 10.) & (reg_querydf.phot_g_mean_mag <= 11.)]\n",
    "table_12 = reg_querydf[(reg_querydf.phot_g_mean_mag > 11.)]"
   ]
  },
  {
   "cell_type": "markdown",
   "metadata": {
    "id": "6O4FeuHqNY4t"
   },
   "source": [
    "### Assign Groups to SkyCoord"
   ]
  },
  {
   "cell_type": "code",
   "execution_count": 21,
   "metadata": {
    "id": "KVppeWLhNVps"
   },
   "outputs": [],
   "source": [
    "coord_obj = coord.SkyCoord(cen_obj.mod_ra, cen_obj.DEJ2000, frame=\"icrs\", unit=u.deg)\n",
    "\n",
    "coord_6 = coord.SkyCoord(table_6.mod_ra, table_6.dec, frame=\"icrs\", unit=u.deg)\n",
    "coord_7 = coord.SkyCoord(table_7.mod_ra, table_7.dec, frame=\"icrs\", unit=u.deg)\n",
    "coord_8 = coord.SkyCoord(table_8.mod_ra, table_8.dec, frame=\"icrs\", unit=u.deg)\n",
    "coord_9 = coord.SkyCoord(table_9.mod_ra, table_9.dec, frame=\"icrs\", unit=u.deg)\n",
    "coord_10 = coord.SkyCoord(table_10.mod_ra, table_10.dec, frame=\"icrs\", unit=u.deg)\n",
    "coord_11 = coord.SkyCoord(table_11.mod_ra, table_11.dec, frame=\"icrs\", unit=u.deg)\n",
    "coord_12 = coord.SkyCoord(table_12.mod_ra, table_12.dec, frame=\"icrs\", unit=u.deg)"
   ]
  },
  {
   "cell_type": "markdown",
   "metadata": {
    "id": "5P5-4PyNN_pu"
   },
   "source": [
    "### Wrap the RA to Plot it Easily"
   ]
  },
  {
   "cell_type": "code",
   "execution_count": 22,
   "metadata": {
    "id": "ixIg4YplNzWB"
   },
   "outputs": [],
   "source": [
    "if (reg_querydf.mod_ra < 0.).any():\n",
    "  ra_obj = coord_obj.ra.wrap_at(180.*u.degree)\n",
    "\n",
    "  ra_6 = coord_6.ra.wrap_at(180.*u.degree)\n",
    "  ra_7 = coord_7.ra.wrap_at(180.*u.degree)\n",
    "  ra_8 = coord_8.ra.wrap_at(180.*u.degree)\n",
    "  ra_9 = coord_9.ra.wrap_at(180.*u.degree)\n",
    "  ra_10 = coord_10.ra.wrap_at(180.*u.degree)\n",
    "  ra_11 = coord_11.ra.wrap_at(180.*u.degree)\n",
    "  ra_12 = coord_12.ra.wrap_at(180.*u.degree)\n",
    "else:\n",
    "  ra_obj = coord_obj.ra\n",
    "\n",
    "  ra_6 = coord_6.ra\n",
    "  ra_7 = coord_7.ra\n",
    "  ra_8 = coord_8.ra\n",
    "  ra_9 = coord_9.ra\n",
    "  ra_10 = coord_10.ra\n",
    "  ra_11 = coord_11.ra\n",
    "  ra_12 = coord_12.ra"
   ]
  },
  {
   "cell_type": "markdown",
   "metadata": {
    "id": "HDFKs_B8ON7q"
   },
   "source": [
    "### Plot the Finding Chart"
   ]
  },
  {
   "cell_type": "code",
   "execution_count": 25,
   "metadata": {
    "colab": {
     "base_uri": "https://localhost:8080/",
     "height": 773
    },
    "id": "idsOZYDcOLKf",
    "outputId": "99020866-f076-4ecd-9a94-6d43417ed84c"
   },
   "outputs": [
    {
     "data": {
      "application/javascript": [
       "\n",
       "    async function download(id, filename, size) {\n",
       "      if (!google.colab.kernel.accessAllowed) {\n",
       "        return;\n",
       "      }\n",
       "      const div = document.createElement('div');\n",
       "      const label = document.createElement('label');\n",
       "      label.textContent = `Downloading \"${filename}\": `;\n",
       "      div.appendChild(label);\n",
       "      const progress = document.createElement('progress');\n",
       "      progress.max = size;\n",
       "      div.appendChild(progress);\n",
       "      document.body.appendChild(div);\n",
       "\n",
       "      const buffers = [];\n",
       "      let downloaded = 0;\n",
       "\n",
       "      const channel = await google.colab.kernel.comms.open(id);\n",
       "      // Send a message to notify the kernel that we're ready.\n",
       "      channel.send({})\n",
       "\n",
       "      for await (const message of channel.messages) {\n",
       "        // Send a message to notify the kernel that we're ready.\n",
       "        channel.send({})\n",
       "        if (message.buffers) {\n",
       "          for (const buffer of message.buffers) {\n",
       "            buffers.push(buffer);\n",
       "            downloaded += buffer.byteLength;\n",
       "            progress.value = downloaded;\n",
       "          }\n",
       "        }\n",
       "      }\n",
       "      const blob = new Blob(buffers, {type: 'application/binary'});\n",
       "      const a = document.createElement('a');\n",
       "      a.href = window.URL.createObjectURL(blob);\n",
       "      a.download = filename;\n",
       "      div.appendChild(a);\n",
       "      a.click();\n",
       "      div.remove();\n",
       "    }\n",
       "  "
      ],
      "text/plain": [
       "<IPython.core.display.Javascript object>"
      ]
     },
     "metadata": {
      "tags": []
     },
     "output_type": "display_data"
    },
    {
     "data": {
      "application/javascript": [
       "download(\"download_72613511-c771-43cd-8b7e-b23cf11fd5b9\", \"WDS 12005-1517_back.png\", 213777)"
      ],
      "text/plain": [
       "<IPython.core.display.Javascript object>"
      ]
     },
     "metadata": {
      "tags": []
     },
     "output_type": "display_data"
    },
    {
     "data": {
      "image/png": "[encoded data removed]",
      "text/plain": [
       "<Figure size 720x720 with 1 Axes>"
      ]
     },
     "metadata": {
      "needs_background": "light",
      "tags": []
     },
     "output_type": "display_data"
    }
   ],
   "source": [
    "fig, ax = plt.subplots(figsize=(10, 10), frameon=True)\n",
    "ax.plot(ra_obj, coord_obj.dec, '+', color='black', mew=.5, ms=20.)\n",
    "ax.scatter(ra_6, coord_6.dec, s=370, marker='.', color='black', alpha=.6, edgecolors=None, label='< 6')\n",
    "ax.scatter(ra_7, coord_7.dec, s=310, marker='.', color='black', alpha=.6, edgecolors=None, label='6 - 7')\n",
    "ax.scatter(ra_8, coord_8.dec, s=250, marker='.', color='black', alpha=.6, edgecolors=None, label='7 - 8')\n",
    "ax.scatter(ra_9, coord_9.dec, s=190, marker='.', color='black', alpha=.6, edgecolors=None, label='8 - 9')\n",
    "ax.scatter(ra_10, coord_10.dec, s=130, marker='.', color='black', alpha=.6, edgecolors=None, label='9 - 10')\n",
    "ax.scatter(ra_11, coord_11.dec, s=70, marker='.', color='black', alpha=.6, edgecolors=None, label='10 - 11')\n",
    "ax.scatter(ra_12, coord_12.dec, s=10, marker='.', color='black', alpha=.6, edgecolors=None, label='> 11')\n",
    "\n",
    "ax.set_xlim([xmin, xmax])\n",
    "ax.set_ylim([ymin, ymax])\n",
    "\n",
    "ax.tick_params(labelsize=12., size=5.)\n",
    "ax.tick_params(top=True, bottom=False, left=True, right=True, labelleft=True, labelright=False, labelbottom=False, labeltop=True)\n",
    "\n",
    "leg = ax.legend(frameon=False, loc='lower left', fontsize=12., \n",
    "                bbox_to_anchor=(-.025, -.3375), labelspacing=1, columnspacing=1.2)\n",
    "\n",
    "for t in leg.get_texts():\n",
    "    t.set_ha('left')\n",
    "    t.set_position((0.,0))\n",
    "\n",
    "ax.annotate('N', xy=(.035, .9),  xycoords='axes fraction', xytext=(.035, .975), textcoords='axes fraction',\n",
    "            arrowprops=dict(arrowstyle=\"<|-\", facecolor='black'), horizontalalignment='center', verticalalignment='center', fontsize=12.)\n",
    "\n",
    "ax.annotate('E', xy=(.0325, .905),  xycoords='axes fraction', xytext=(.1, .905), textcoords='axes fraction',\n",
    "            arrowprops=dict(arrowstyle=\"<|-\", facecolor='black'), horizontalalignment='center', verticalalignment='center', fontsize=12.)\n",
    "\n",
    "\n",
    "ax.text(.20, -.03, 'Object Name:', horizontalalignment='left', verticalalignment='center', fontsize=12., transform=ax.transAxes)\n",
    "ax.text(.25, -.06, '%s'%(objek), horizontalalignment='left', verticalalignment='center', fontsize=12., transform=ax.transAxes)\n",
    "ax.text(.20, -.11, 'ICRS Coordinates (J2000)', horizontalalignment='left', verticalalignment='center', fontsize=12., transform=ax.transAxes)\n",
    "ax.text(.25, -.14, 'RA: %s'%(coord_obj.ra.to_string(u.hour)[0]), horizontalalignment='left', verticalalignment='center', fontsize=12., transform=ax.transAxes)\n",
    "ax.text(.25, -.17, 'DEC: %s'%(coord_obj.dec.to_string(u.degree)[0]), horizontalalignment='left', verticalalignment='center', fontsize=12., transform=ax.transAxes)\n",
    "ax.text(.20, -.22, 'Diagonal Field of View:', horizontalalignment='left', verticalalignment='center', fontsize=12., transform=ax.transAxes)\n",
    "ax.text(.25, -.25, '1.0 degree', horizontalalignment='left', verticalalignment='center', fontsize=12., transform=ax.transAxes)\n",
    "\n",
    "ax.text(.60, -.03, 'Reference:', horizontalalignment='left', verticalalignment='center', fontsize=12., transform=ax.transAxes)\n",
    "ax.text(.65, -.06, 'Gaia Early Data Release 3', horizontalalignment='left', verticalalignment='center', fontsize=12., transform=ax.transAxes)\n",
    "ax.text(.60, -.11, 'Notes:', horizontalalignment='left', verticalalignment='center', fontsize=12., transform=ax.transAxes)\n",
    "\n",
    "# If using local machine, uncomment this code\n",
    "# plt.savefig(objek+'_back.png', dpi=300., bbox_inches='tight')\n",
    "\n",
    "# If using Google Colab, uncomment below codes\n",
    "from google.colab import files\n",
    "plt.savefig(objek+'_back.png', dpi=300., bbox_inches='tight')\n",
    "files.download(objek+'_back.png')"
   ]
  },
  {
   "cell_type": "code",
   "execution_count": 151,
   "metadata": {
    "id": "5u0JO-h4VYPQ"
   },
   "outputs": [],
   "source": []
  }
 ],
 "metadata": {
  "colab": {
   "collapsed_sections": [],
   "name": "BDS_wdsgaiaedr3_vizier_query_fcplot.ipynb",
   "provenance": []
  },
  "kernelspec": {
   "display_name": "Python 3",
   "language": "python",
   "name": "python3"
  },
  "language_info": {
   "codemirror_mode": {
    "name": "ipython",
    "version": 3
   },
   "file_extension": ".py",
   "mimetype": "text/x-python",
   "name": "python",
   "nbconvert_exporter": "python",
   "pygments_lexer": "ipython3",
   "version": "3.8.8"
  }
 },
 "nbformat": 4,
 "nbformat_minor": 1
}
